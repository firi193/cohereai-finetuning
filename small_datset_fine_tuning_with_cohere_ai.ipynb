{
  "nbformat": 4,
  "nbformat_minor": 0,
  "metadata": {
    "colab": {
      "provenance": []
    },
    "kernelspec": {
      "name": "python3",
      "display_name": "Python 3"
    },
    "language_info": {
      "name": "python"
    }
  },
  "cells": [
    {
      "cell_type": "code",
      "source": [
        "!pip install cohere"
      ],
      "metadata": {
        "id": "Vi7e5WfN5yAG"
      },
      "execution_count": null,
      "outputs": []
    },
    {
      "cell_type": "code",
      "source": [
        "import os\n",
        "import pandas as pd\n",
        "import re\n",
        "import pickle\n",
        "import pandas as pd\n",
        "import matplotlib.pyplot as plt\n",
        "from sklearn.metrics import roc_curve, auc\n",
        "import time\n",
        "from cohere.custom_model_dataset import CsvDataset, InMemoryDataset\n",
        "from sklearn.metrics import accuracy_score, precision_score, recall_score, f1_score"
      ],
      "metadata": {
        "id": "tAe4NI8XbDKD"
      },
      "execution_count": null,
      "outputs": []
    },
    {
      "cell_type": "code",
      "source": [
        "api_key = 'YOUR_COHEREAI_API_KEY_HERE'\n",
        "co = cohere.Client(api_key)"
      ],
      "metadata": {
        "id": "ZcE1exgAIzBk"
      },
      "execution_count": null,
      "outputs": []
    },
    {
      "cell_type": "markdown",
      "source": [
        "## Prepare the data\n",
        "\n",
        "a. import it\n",
        "\n",
        "b. replace the 0s and 1s with clickbait and not clickbait\n",
        "\n",
        "c. convert the dataset into a json of prompt-completion pairs\n",
        "\n",
        "d. split in into training and validation pairs"
      ],
      "metadata": {
        "id": "3NpYd6s8bTM3"
      }
    },
    {
      "cell_type": "code",
      "source": [
        "clickbait_df=pd.read_csv(\"clickbait_data.csv\")\n",
        "clickbait_df.dropna(how=\"any\", inplace=True)"
      ],
      "metadata": {
        "id": "fHZZSJ-xbSUK"
      },
      "execution_count": null,
      "outputs": []
    },
    {
      "cell_type": "code",
      "source": [
        "clickbait_df=clickbait_df.rename(columns={'headline':'Prompt','clickbait':'Completion'})"
      ],
      "metadata": {
        "id": "N4g5icFJgqv2"
      },
      "execution_count": null,
      "outputs": []
    },
    {
      "cell_type": "code",
      "source": [
        "# Replace multiple values in column 'B'\n",
        "clickbait_df['Completion'].replace({1: ' clickbait\\n', 0: ' not clickbait\\n'}, inplace=True)"
      ],
      "metadata": {
        "id": "gH09OxuUfUh_"
      },
      "execution_count": null,
      "outputs": []
    },
    {
      "cell_type": "code",
      "source": [
        "clickbait_df['Prompt']=clickbait_df['Prompt']+'/n is the above statement a clickbait or not?\\n\\n###\\n\\n'"
      ],
      "metadata": {
        "id": "_Ud0bvrYm7zP"
      },
      "execution_count": null,
      "outputs": []
    },
    {
      "cell_type": "code",
      "source": [
        "def get_dec_percent(x, dec, exclude=None):\n",
        "    if exclude is not None:\n",
        "        x = x[~x.index.isin(exclude.index)]\n",
        "    return x.sample(frac=dec)\n",
        "\n",
        "df_train = clickbait_df.groupby('Completion').apply(get_dec_percent, 0.05)\n",
        "df_validation = clickbait_df.groupby('Completion').apply(get_dec_percent, 0.50, exclude=df_train)\n"
      ],
      "metadata": {
        "id": "IZ38bL4Rj-Al"
      },
      "execution_count": null,
      "outputs": []
    },
    {
      "cell_type": "code",
      "source": [
        "df_test = clickbait_df.groupby('Completion').apply(get_dec_percent, 0.01, exclude=pd.concat([df_train, df_validation]))"
      ],
      "metadata": {
        "id": "T2Z5vOu4k4xn"
      },
      "execution_count": null,
      "outputs": []
    },
    {
      "cell_type": "code",
      "source": [
        "df_validation['Completion'].value_counts()"
      ],
      "metadata": {
        "id": "gHFZvb7mwIzx"
      },
      "execution_count": null,
      "outputs": []
    },
    {
      "cell_type": "code",
      "source": [
        "df_train.to_json(\"prompt_completions_prepared_train.jsonl\", orient='records', lines=True)\n",
        "df_validation.to_json(\"prompt_completions_prepared_valid.jsonl\", orient='records', lines=True)"
      ],
      "metadata": {
        "id": "demV9cDYljiu"
      },
      "execution_count": null,
      "outputs": []
    },
    {
      "cell_type": "code",
      "source": [
        "df_validation.reset_index(drop=True, inplace=True)\n",
        "df_train.reset_index(drop=True, inplace=True)"
      ],
      "metadata": {
        "id": "BEGqNauMrykW"
      },
      "execution_count": null,
      "outputs": []
    },
    {
      "cell_type": "code",
      "source": [
        "df_train.to_csv(\"finetuning_data.csv\")\n",
        "df_validation.to_csv(\"finetuning_data_for_evaluation.csv\")"
      ],
      "metadata": {
        "id": "UMui0rEV7jAF"
      },
      "execution_count": null,
      "outputs": []
    },
    {
      "cell_type": "code",
      "source": [
        "data_list = [tuple(row) for row in df_train.values]"
      ],
      "metadata": {
        "id": "38X562zapCO3"
      },
      "execution_count": null,
      "outputs": []
    },
    {
      "cell_type": "code",
      "source": [
        "eval_data_list = [tuple(row) for row in df_validation.values]"
      ],
      "metadata": {
        "id": "_zczPc9Esxms"
      },
      "execution_count": null,
      "outputs": []
    },
    {
      "cell_type": "markdown",
      "source": [
        "## Fine-tune the model\n"
      ],
      "metadata": {
        "id": "jERZ357NuEe0"
      }
    },
    {
      "cell_type": "code",
      "source": [
        "dataset = InMemoryDataset(training_data = data_list)\n",
        "finetune = co.create_custom_model(\"prompt-completion-ft-1\", dataset=dataset, model_type=\"GENERATIVE\")"
      ],
      "metadata": {
        "id": "wtY0jiqEoRHL"
      },
      "execution_count": null,
      "outputs": []
    },
    {
      "cell_type": "code",
      "source": [
        "dataset_with_eval = InMemoryDataset(training_data = data_list, eval_data=eval_data_list)\n",
        "finetune_with_eval_ = co.create_custom_model(\"prompt-completion-ft-with-eval\", dataset=dataset_with_eval, model_type=\"GENERATIVE\")"
      ],
      "metadata": {
        "id": "QKW1wnEjspCP"
      },
      "execution_count": null,
      "outputs": []
    },
    {
      "cell_type": "code",
      "source": [
        "finetune_with_eval_"
      ],
      "metadata": {
        "colab": {
          "base_uri": "https://localhost:8080/",
          "height": 36
        },
        "id": "cMostZMio657",
        "outputId": "b4f83637-5530-4fb9-cdc2-5142f1e11bb8"
      },
      "execution_count": null,
      "outputs": [
        {
          "output_type": "execute_result",
          "data": {
            "text/plain": [
              "'QUEUED'"
            ],
            "application/vnd.google.colaboratory.intrinsic+json": {
              "type": "string"
            }
          },
          "metadata": {},
          "execution_count": 21
        }
      ]
    },
    {
      "cell_type": "code",
      "source": [
        "response = co.generate(\n",
        "      model=\"model_id\",\n",
        "      prompt=\"florida man is dead, clickbait or not? \\n\\n###\\n\\n\",\n",
        "      stop_sequences=[\"\\n\\n###\\n\\n\"],\n",
        "      return_likelihoods='NONE')"
      ],
      "metadata": {
        "id": "4aOvDL5pHbpb"
      },
      "execution_count": null,
      "outputs": []
    },
    {
      "cell_type": "code",
      "source": [
        "# model = co.get_model()\n",
        "\n",
        "predicted_labels = []\n",
        "actual_labels = []\n",
        "\n",
        "# Load your evaluation dataset\n",
        "test_list=df_test.to_dict('records')\n",
        "i=0\n",
        "# Generate text using the fine-tuned model\n",
        "for item in test_list:\n",
        "    response = co.generate(\n",
        "      model=\"cb8fa9d1-1a97-4825-b683-ef6694f6243f-ft\",\n",
        "      prompt=item['Prompt'],\n",
        "      stop_sequences=[\"\\n\\n###\\n\\n\"],\n",
        "      return_likelihoods='NONE')\n",
        "\n",
        "    generated_completion = response.generations[0].text\n",
        "\n",
        "    # Assuming 'completion' column contains the expected completion in the test dataset\n",
        "    expected_completion = item['Completion']\n",
        "\n",
        "    predicted_labels.append(generated_completion)\n",
        "    actual_labels.append(expected_completion)\n",
        "    i=i+1\n",
        "    print(i)\n",
        "    time.sleep(25)\n",
        "\n"
      ],
      "metadata": {
        "id": "E5NYb1R9DvvA"
      },
      "execution_count": null,
      "outputs": []
    },
    {
      "cell_type": "markdown",
      "source": [
        "The above loop can take a long time to finish, because the free trial cohere api key only allows 5 calls per minute, thus why there's a timer line in the code. So, it's better to pickle the 'actual_labels' and 'predicted_labels' list, so they can be used again."
      ],
      "metadata": {
        "id": "0l_O3kMjJKGp"
      }
    },
    {
      "cell_type": "code",
      "source": [
        "# Saving the list to a file\n",
        "with open('actual_labels.pickle', 'wb') as file:\n",
        "    pickle.dump(actual_labels, file)"
      ],
      "metadata": {
        "id": "M1sL_TSbP2h3"
      },
      "execution_count": null,
      "outputs": []
    },
    {
      "cell_type": "code",
      "source": [
        "# Saving the list to a file\n",
        "with open('predicted_labels.pickle', 'wb') as file:\n",
        "    pickle.dump(predicted_labels, file)"
      ],
      "metadata": {
        "id": "3xlsWdmB2rlv"
      },
      "execution_count": null,
      "outputs": []
    },
    {
      "cell_type": "code",
      "source": [
        "# Open the pickle file in binary mode\n",
        "with open('predicted_labels.pickle', 'rb') as f:\n",
        "    # Load the contents of the pickle file\n",
        "     predicted_labels = pickle.load(f)\n",
        "\n",
        "# The variable 'data' now contains the contents of the pickle file as a list\n"
      ],
      "metadata": {
        "id": "HzV0fzMq2UDd"
      },
      "execution_count": null,
      "outputs": []
    },
    {
      "cell_type": "code",
      "source": [
        "# Open the pickle file in binary mode\n",
        "with open('actual_labels.pickle', 'rb') as f:\n",
        "    # Load the contents of the pickle file\n",
        "     actual_labels = pickle.load(f)\n"
      ],
      "metadata": {
        "id": "MY3w6jJkqk7f"
      },
      "execution_count": null,
      "outputs": []
    },
    {
      "cell_type": "code",
      "source": [
        "# Calculate evaluation metrics\n",
        "accuracy = accuracy_score(actual_labels, predicted_labels)\n",
        "precision = precision_score(actual_labels, predicted_labels, average='weighted')\n",
        "recall = recall_score(actual_labels, predicted_labels, average='weighted')\n",
        "f1 = f1_score(actual_labels, predicted_labels, average='weighted')\n",
        "\n",
        "print(\"Accuracy:\", accuracy)\n",
        "print(\"Precision:\", precision)\n",
        "print(\"Recall:\", recall)\n",
        "print(\"F1-score:\", f1)"
      ],
      "metadata": {
        "colab": {
          "base_uri": "https://localhost:8080/"
        },
        "id": "D868Zrg_HTvX",
        "outputId": "93ca26f4-e64b-4bb6-a13f-636e2532685d"
      },
      "execution_count": null,
      "outputs": [
        {
          "output_type": "stream",
          "name": "stdout",
          "text": [
            "Accuracy: 0.99375\n",
            "Precision: 0.99375\n",
            "Recall: 0.99375\n",
            "F1-score: 0.99375\n"
          ]
        }
      ]
    },
    {
      "cell_type": "code",
      "source": [
        "predicted_labels_numeric = [1 if label == ' clickbait\\n' else 0 for label in predicted_labels]\n",
        "\n",
        "# Convert the actual labels to numerical format\n",
        "actual_labels_numeric = [1 if label == ' clickbait\\n' else 0 for label in actual_labels]\n",
        "\n",
        "# Compute the false positive rate (FPR), true positive rate (TPR), and thresholds\n",
        "fpr, tpr, thresholds = roc_curve(actual_labels_numeric, predicted_labels_numeric)\n",
        "\n",
        "# Compute the Area Under the Curve (AUC)\n",
        "roc_auc = auc(fpr, tpr)\n",
        "\n",
        "# Plot the ROC curve\n",
        "plt.figure()\n",
        "plt.plot(fpr, tpr, color='darkorange', lw=2, label='ROC curve (area = %0.2f)' % roc_auc)\n",
        "plt.plot([0, 1], [0, 1], color='navy', lw=2, linestyle='--')\n",
        "plt.xlim([0.0, 1.0])\n",
        "plt.ylim([0.0, 1.05])\n",
        "plt.xlabel('False Positive Rate')\n",
        "plt.ylabel('True Positive Rate')\n",
        "plt.title('Receiver Operating Characteristic (ROC) Curve')\n",
        "plt.legend(loc=\"lower right\")\n",
        "plt.show()"
      ],
      "metadata": {
        "colab": {
          "base_uri": "https://localhost:8080/",
          "height": 472
        },
        "id": "sZu4DrQNuMlN",
        "outputId": "23302224-823d-4065-dfba-a1caf74e58d8"
      },
      "execution_count": null,
      "outputs": [
        {
          "output_type": "display_data",
          "data": {
            "text/plain": [
              "<Figure size 640x480 with 1 Axes>"
            ],
            "image/png": "[encoded data removed]"
          },
          "metadata": {}
        }
      ]
    }
  ]
}